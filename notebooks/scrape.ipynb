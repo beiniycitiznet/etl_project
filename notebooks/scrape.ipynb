{
 "cells": [
  {
   "cell_type": "markdown",
   "metadata": {},
   "source": [
    "# **Scrape**"
   ]
  },
  {
   "cell_type": "markdown",
   "metadata": {},
   "source": [
    "Site to scrape: https://statewidedatabase.org/d10/p16.html\n",
    "        \n",
    "table, tbody, -- <br>\n",
    "    go through every row (tr) <br>\n",
    "    go through every header (th) in row <br>\n",
    "    get th > a:text <br>\n",
    "    get everything inside th <br>\n"
   ]
  },
  {
   "cell_type": "code",
   "execution_count": 1,
   "metadata": {},
   "outputs": [],
   "source": [
    "# Dependencies\n",
    "from bs4 import BeautifulSoup\n",
    "import pymongo\n",
    "from splinter import Browser\n",
    "from splinter.exceptions import ElementDoesNotExist\n",
    "import pandas as pd\n",
    "\n",
    "\n",
    "# Dependencies\n",
    "# ----------------------------------\n",
    "from sqlalchemy import create_engine\n",
    "from sqlalchemy.ext.declarative import declarative_base\n",
    "Base = declarative_base()\n",
    "from config import ADDRESS,PORTNUM,USERNAME,PW,DBNAMEPC\n",
    "from sqlalchemy import Column, Integer, String, Float\n",
    "from sqlalchemy.orm import Session"
   ]
  },
  {
   "cell_type": "markdown",
   "metadata": {},
   "source": [
    "-------"
   ]
  },
  {
   "cell_type": "markdown",
   "metadata": {},
   "source": [
    "**PostgreSQL Auth**"
   ]
  },
  {
   "cell_type": "markdown",
   "metadata": {},
   "source": [
    "Create the connection"
   ]
  },
  {
   "cell_type": "code",
   "execution_count": 2,
   "metadata": {},
   "outputs": [],
   "source": [
    "# Postgres username, password, and database name\n",
    "POSTGRES_ADDRESS = ADDRESS ## INSERT YOUR DB ADDRESS IF IT'S NOT ON PANOPLY\n",
    "POSTGRES_PORT = PORTNUM\n",
    "POSTGRES_USERNAME = USERNAME ## CHANGE THIS TO YOUR PANOPLY/POSTGRES USERNAME\n",
    "POSTGRES_PASSWORD = PW ## CHANGE THIS TO YOUR PANOPLY/POSTGRES PASSWORD\n",
    "POSTGRES_DBNAME = DBNAMEPC ## CHANGE THIS TO YOUR DATABASE NAME\n",
    "\n",
    "# A long string that contains the necessary Postgres login information\n",
    "postgres_str = ('postgresql://{username}:{password}@{ipaddress}:{port}/{dbname}'\n",
    "    .format(username=POSTGRES_USERNAME,\n",
    "    password=POSTGRES_PASSWORD,\n",
    "    ipaddress=POSTGRES_ADDRESS,\n",
    "    port=POSTGRES_PORT,\n",
    "    dbname=POSTGRES_DBNAME))\n"
   ]
  },
  {
   "cell_type": "markdown",
   "metadata": {},
   "source": [
    "-----"
   ]
  },
  {
   "cell_type": "markdown",
   "metadata": {},
   "source": [
    "**Splinter**"
   ]
  },
  {
   "cell_type": "code",
   "execution_count": 3,
   "metadata": {},
   "outputs": [],
   "source": [
    "executable_path = {'executable_path': 'chromedriver.exe'}\n",
    "browser = Browser('chrome', **executable_path, headless=False)"
   ]
  },
  {
   "cell_type": "code",
   "execution_count": 4,
   "metadata": {},
   "outputs": [],
   "source": [
    "url = 'https://statewidedatabase.org/d10/p16.html'\n",
    "browser.visit(url)"
   ]
  },
  {
   "cell_type": "markdown",
   "metadata": {},
   "source": [
    "-----"
   ]
  },
  {
   "cell_type": "code",
   "execution_count": 5,
   "metadata": {
    "scrolled": true
   },
   "outputs": [],
   "source": [
    "# HTML object\n",
    "html = browser.html\n",
    "# Instantiate a BeautifulSoup() object with our `html` and the `html5lib` parser\n",
    "soup = BeautifulSoup(html, 'html5lib')\n",
    "\n",
    "# Article holding pics\n",
    "tbody = soup.find('tbody')"
   ]
  },
  {
   "cell_type": "code",
   "execution_count": 6,
   "metadata": {},
   "outputs": [],
   "source": [
    "# tr holds all a:text which also holds county number\n",
    "tr = tbody.find_all('a', class_='county-num')"
   ]
  },
  {
   "cell_type": "code",
   "execution_count": 8,
   "metadata": {},
   "outputs": [],
   "source": [
    "# Empty list for loop\n",
    "county_number_list = []\n",
    "\n",
    "# Find County Number\n",
    "for t in tr:\n",
    "    # County number: County 001\n",
    "    county_number = t.next_element\n",
    "    \n",
    "    # initializing sub list. Remove the str 'COUNTY ' \n",
    "    sub_list = [\"COUNTY \"] \n",
    "    \n",
    "    # For item in list, remove string found in sub_list and replace with what is left over.\n",
    "    for sub in sub_list: \n",
    "        county_str = county_number.replace(sub, ' ') \n",
    "        res = \" \".join(county_str.split())\n",
    "    \n",
    "    # Add results to list\n",
    "    county_number_list.append(res)\n",
    "# When finished, print list\n",
    "# print(county_number_list)"
   ]
  },
  {
   "cell_type": "code",
   "execution_count": 9,
   "metadata": {},
   "outputs": [],
   "source": [
    "# tbody holds all thead which has city name. county number is also here but within anchor text\n",
    "tbody = soup.find('tbody')\n",
    "th = tbody.find_all('th')\n",
    "\n",
    "# Empty name list for loop\n",
    "county_name_list = []\n",
    "\n",
    "# Loop through headers and grab city name while avoiding anchor\n",
    "for t in th:\n",
    "    th = t.next_element.next_element.next_element.next_element\n",
    "    county_name_list.append(th)\n",
    "\n",
    "# Scraping included a row we didnt need. Removing.\n",
    "remove_first_item_in_list = list(county_name_list.pop(0))\n",
    "# print(county_name_list)\n",
    "browser.quit()"
   ]
  },
  {
   "cell_type": "code",
   "execution_count": 10,
   "metadata": {},
   "outputs": [],
   "source": [
    "# Combine list to dict for dataframe cleaning\n",
    "county_num_name_dict = dict(zip(county_number_list, county_name_list))"
   ]
  },
  {
   "cell_type": "markdown",
   "metadata": {},
   "source": [
    "Create dataframe for viewing"
   ]
  },
  {
   "cell_type": "code",
   "execution_count": 11,
   "metadata": {},
   "outputs": [],
   "source": [
    "df_county_name_num = pd.DataFrame(columns=['county', 'county_name'])\n",
    "df_county_name_num['county'] = county_num_name_dict.keys()\n",
    "df_county_name_num['county_name'] = county_num_name_dict.values()\n",
    "# df_county_name_num"
   ]
  },
  {
   "cell_type": "code",
   "execution_count": 12,
   "metadata": {},
   "outputs": [
    {
     "name": "stdout",
     "output_type": "stream",
     "text": [
      "Good for upload to db.\n"
     ]
    }
   ],
   "source": [
    "# Check if all 58 counties are listed\n",
    "assert len(df_county_name_num) == 58;\n",
    "print('Good for upload to db.')"
   ]
  },
  {
   "cell_type": "markdown",
   "metadata": {},
   "source": [
    "------"
   ]
  },
  {
   "cell_type": "markdown",
   "metadata": {},
   "source": [
    "# Upload to PostgreSQL"
   ]
  },
  {
   "cell_type": "code",
   "execution_count": 13,
   "metadata": {
    "scrolled": true
   },
   "outputs": [],
   "source": [
    "# TEMPLATE: CountNamesNumber template to upload to specific table in db\n",
    "# Create CountNamesNumber Classes\n",
    "# Creates table with column names\n",
    "# ----------------------------------\n",
    "class CountNamesNumber(Base):\n",
    "    __tablename__ = 'county_names'\n",
    "    county = Column(Integer, primary_key=True)\n",
    "    county_name = Column(String(30))\n",
    "    "
   ]
  },
  {
   "cell_type": "code",
   "execution_count": 14,
   "metadata": {},
   "outputs": [],
   "source": [
    "# Create Database Connection\n",
    "# ----------------------------------\n",
    "# create engine to postgres connection\n",
    "engine = create_engine(postgres_str)\n",
    "conn = engine.connect()"
   ]
  },
  {
   "cell_type": "code",
   "execution_count": 15,
   "metadata": {},
   "outputs": [],
   "source": [
    "# Create a \"Metadata\" Layer That Abstracts the SQL Database\n",
    "# ----------------------------------\n",
    "Base.metadata.create_all(engine)"
   ]
  },
  {
   "cell_type": "code",
   "execution_count": 16,
   "metadata": {},
   "outputs": [],
   "source": [
    "# Create a Session Object to Connect to DB\n",
    "# ----------------------------------\n",
    "session = Session(bind=engine)"
   ]
  },
  {
   "cell_type": "markdown",
   "metadata": {},
   "source": [
    "Loop through both list created. Assign value to be added individually to specified column"
   ]
  },
  {
   "cell_type": "code",
   "execution_count": 17,
   "metadata": {},
   "outputs": [
    {
     "name": "stdout",
     "output_type": "stream",
     "text": [
      "completed upload to db\n"
     ]
    }
   ],
   "source": [
    "try:\n",
    "    for key, value in zip(county_number_list, county_name_list):\n",
    "    #     print(f'{key},{value}')\n",
    "        row = CountNamesNumber(county=key, county_name=value)\n",
    "        session.add(row)\n",
    "        session.commit()\n",
    "    print('completed upload to db')\n",
    "except:\n",
    "    print('error during upload. check db for partial information.')"
   ]
  },
  {
   "cell_type": "code",
   "execution_count": null,
   "metadata": {},
   "outputs": [],
   "source": []
  },
  {
   "cell_type": "code",
   "execution_count": null,
   "metadata": {},
   "outputs": [],
   "source": []
  }
 ],
 "metadata": {
  "kernelspec": {
   "display_name": "Python 3.7.7 64-bit ('usc_bootcamp': conda)",
   "language": "python",
   "name": "python37764bituscbootcampconda3361b9ec87e5404d80e03b8fe2fcfaaf"
  },
  "language_info": {
   "codemirror_mode": {
    "name": "ipython",
    "version": 3
   },
   "file_extension": ".py",
   "mimetype": "text/x-python",
   "name": "python",
   "nbconvert_exporter": "python",
   "pygments_lexer": "ipython3",
   "version": "3.7.7"
  }
 },
 "nbformat": 4,
 "nbformat_minor": 4
}
