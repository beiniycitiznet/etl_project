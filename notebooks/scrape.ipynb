{
 "cells": [
  {
   "cell_type": "markdown",
   "metadata": {},
   "source": [
    "# ETL Project\n",
    "\n",
    "**Objective:** Gather data sources, transform and load into a database. \n",
    "Data involves how much campaign contributions each candidate received and success of campaign. Seeking information into spending contribution on post election results specifically on 2016\n"
   ]
  },
  {
   "cell_type": "markdown",
   "metadata": {},
   "source": [
    "**Team:** Inquisitive Otus<br>\n",
    "**Team Members:** Claudia Flores, Sheng Le, Christian Pompa"
   ]
  },
  {
   "cell_type": "code",
   "execution_count": 2,
   "metadata": {},
   "outputs": [],
   "source": [
    "# Dependencies\n",
    "from bs4 import BeautifulSoup\n",
    "import pymongo\n",
    "from splinter import Browser\n",
    "from splinter.exceptions import ElementDoesNotExist\n",
    "import pandas as pd\n",
    "import requests\n",
    "import json\n",
    "from pprint import pprint\n",
    "\n",
    "# SQL Dependencies\n",
    "# ----------------------------------\n",
    "from sqlalchemy import create_engine\n",
    "from sqlalchemy.ext.declarative import declarative_base\n",
    "Base = declarative_base()\n",
    "from config import api_key, username, password, ipaddress, port, dbname\n",
    "from sqlalchemy.orm import Session\n",
    "from sqlalchemy import Table, MetaData, Column, Integer, String, ForeignKey\n",
    "from sqlalchemy.orm import mapper"
   ]
  },
  {
   "cell_type": "markdown",
   "metadata": {},
   "source": [
    "-------"
   ]
  },
  {
   "cell_type": "markdown",
   "metadata": {},
   "source": [
    "### **Scrape**"
   ]
  },
  {
   "cell_type": "markdown",
   "metadata": {},
   "source": [
    "Visit: https://www.nrcs.usda.gov/wps/portal/nrcs/detail/national/home/?cid=nrcs143_013697\n",
    "        \n",
    "Retrieve County name from FIPS. Match FIPS with statewide_db.csv"
   ]
  },
  {
   "cell_type": "markdown",
   "metadata": {},
   "source": [
    "**PostgreSQL Auth**"
   ]
  },
  {
   "cell_type": "markdown",
   "metadata": {},
   "source": [
    "Create the connection"
   ]
  },
  {
   "cell_type": "code",
   "execution_count": 3,
   "metadata": {},
   "outputs": [],
   "source": [
    "# A long string that contains the necessary Postgres login information\n",
    "postgres_str = (f'postgresql://{username}:{password}@{ipaddress}:{port}/{dbname}')"
   ]
  },
  {
   "cell_type": "markdown",
   "metadata": {},
   "source": [
    "-----"
   ]
  },
  {
   "cell_type": "markdown",
   "metadata": {},
   "source": [
    "**Splinter**"
   ]
  },
  {
   "cell_type": "code",
   "execution_count": 3,
   "metadata": {},
   "outputs": [],
   "source": [
    "# executable_path = {'executable_path': 'chromedriver.exe'}\n",
    "# browser = Browser('chrome', **executable_path, headless=True)"
   ]
  },
  {
   "cell_type": "code",
   "execution_count": 4,
   "metadata": {},
   "outputs": [],
   "source": [
    "url = 'https://www.nrcs.usda.gov/wps/portal/nrcs/detail/national/home/?cid=nrcs143_013697'\n",
    "# # browser.visit(url)"
   ]
  },
  {
   "cell_type": "markdown",
   "metadata": {},
   "source": [
    "-----"
   ]
  },
  {
   "cell_type": "markdown",
   "metadata": {},
   "source": [
    "Create dataframe for viewing"
   ]
  },
  {
   "cell_type": "code",
   "execution_count": 5,
   "metadata": {},
   "outputs": [],
   "source": [
    "table = pd.read_html(url)"
   ]
  },
  {
   "cell_type": "code",
   "execution_count": 6,
   "metadata": {},
   "outputs": [
    {
     "data": {
      "text/plain": [
       "pandas.core.frame.DataFrame"
      ]
     },
     "execution_count": 6,
     "metadata": {},
     "output_type": "execute_result"
    }
   ],
   "source": [
    "fips_df_all = table[1]\n",
    "type(fips_df_all)"
   ]
  },
  {
   "cell_type": "code",
   "execution_count": 7,
   "metadata": {},
   "outputs": [],
   "source": [
    "fips_df_ca = fips_df_all.loc[fips_df_all['State'] == 'CA']"
   ]
  },
  {
   "cell_type": "code",
   "execution_count": 8,
   "metadata": {},
   "outputs": [],
   "source": [
    "# fips_df_ca"
   ]
  },
  {
   "cell_type": "code",
   "execution_count": 9,
   "metadata": {},
   "outputs": [
    {
     "data": {
      "text/plain": [
       "58"
      ]
     },
     "execution_count": 9,
     "metadata": {},
     "output_type": "execute_result"
    }
   ],
   "source": [
    "len(fips_df_ca)"
   ]
  },
  {
   "cell_type": "code",
   "execution_count": 10,
   "metadata": {},
   "outputs": [
    {
     "name": "stdout",
     "output_type": "stream",
     "text": [
      "Good for upload to db.\n"
     ]
    }
   ],
   "source": [
    "# Check if all 58 counties are listed\n",
    "assert len(fips_df_ca) == 58;\n",
    "print('Good for upload to db.')"
   ]
  },
  {
   "cell_type": "markdown",
   "metadata": {},
   "source": [
    "------"
   ]
  },
  {
   "cell_type": "markdown",
   "metadata": {},
   "source": [
    "## Upload to PostgreSQL"
   ]
  },
  {
   "cell_type": "markdown",
   "metadata": {},
   "source": [
    "### District Name Num Table"
   ]
  },
  {
   "cell_type": "code",
   "execution_count": 11,
   "metadata": {
    "scrolled": true
   },
   "outputs": [],
   "source": [
    "# TEMPLATE: CountNamesNumber template to upload to specific table in db\n",
    "# Create CountNamesNumber Classes\n",
    "# Creates table with column names\n",
    "# ----------------------------------\n",
    "class FipsCountyNamesNumber(Base):\n",
    "    __tablename__ = 'district_name_num'\n",
    "    fips = Column(Integer, primary_key=True)\n",
    "    county_name = Column(String(30))\n",
    "    state = Column(String(2))\n",
    "    "
   ]
  },
  {
   "cell_type": "code",
   "execution_count": 12,
   "metadata": {},
   "outputs": [],
   "source": [
    "fips_list = fips_df_ca['FIPS'].tolist()\n",
    "names_list = fips_df_ca['Name'].tolist()\n",
    "state_list = fips_df_ca['State'].tolist()"
   ]
  },
  {
   "cell_type": "code",
   "execution_count": null,
   "metadata": {},
   "outputs": [],
   "source": []
  },
  {
   "cell_type": "code",
   "execution_count": 13,
   "metadata": {},
   "outputs": [],
   "source": [
    "# Create Database Connection\n",
    "# ----------------------------------\n",
    "# create engine to postgres connection\n",
    "engine = create_engine(postgres_str)\n",
    "conn = engine.connect()"
   ]
  },
  {
   "cell_type": "code",
   "execution_count": 14,
   "metadata": {},
   "outputs": [],
   "source": [
    "# Create a \"Metadata\" Layer That Abstracts the SQL Database\n",
    "# ----------------------------------\n",
    "Base.metadata.create_all(engine)"
   ]
  },
  {
   "cell_type": "code",
   "execution_count": 15,
   "metadata": {},
   "outputs": [],
   "source": [
    "# Create a Session Object to Connect to DB\n",
    "# ----------------------------------\n",
    "session = Session(bind=engine)"
   ]
  },
  {
   "cell_type": "markdown",
   "metadata": {},
   "source": [
    "Loop through both list created. Assign value to be added individually to specified column"
   ]
  },
  {
   "cell_type": "code",
   "execution_count": 16,
   "metadata": {
    "scrolled": true
   },
   "outputs": [
    {
     "name": "stdout",
     "output_type": "stream",
     "text": [
      "completed upload to db\n",
      "completed upload to db\n"
     ]
    }
   ],
   "source": [
    "try:\n",
    "    for fip, name, states in zip(fips_list, names_list, state_list):\n",
    "#         print(f'{fip},{name},{state}')\n",
    "        row = FipsCountyNamesNumber(fips=fip, county_name=name, state=states)\n",
    "        session.add(row)\n",
    "        session.commit()\n",
    "    print('completed upload to db')\n",
    "    \n",
    "except Exception as e:\n",
    "        print(f'error during upload. check db for partial information: {e}')\n",
    "        print('===============================')\n",
    "        \n",
    "print('completed upload to db')"
   ]
  },
  {
   "cell_type": "code",
   "execution_count": null,
   "metadata": {},
   "outputs": [],
   "source": []
  },
  {
   "cell_type": "markdown",
   "metadata": {},
   "source": [
    "----------"
   ]
  },
  {
   "cell_type": "markdown",
   "metadata": {},
   "source": [
    "### Election Table"
   ]
  },
  {
   "cell_type": "code",
   "execution_count": 7,
   "metadata": {},
   "outputs": [],
   "source": [
    "# Specify the URL\n",
    "elections_url = \"https://api.open.fec.gov/v1/elections/?\""
   ]
  },
  {
   "cell_type": "code",
   "execution_count": 8,
   "metadata": {},
   "outputs": [
    {
     "name": "stdout",
     "output_type": "stream",
     "text": [
      "['01', '02', '03', '04', '05', '06', '07', '08', '09', '10', '11', '12', '13', '14', '15', '16', '17', '18', '19', '20', '21', '22', '23', '24', '25', '26', '27', '28', '29', '30', '31', '32', '33', '34', '35', '36', '37', '38', '39', '40', '41', '42', '43', '44', '45', '46', '47', '48', '49', '50', '51', '52', '53']\n"
     ]
    }
   ],
   "source": [
    "# Create districts list\n",
    "districts=[]\n",
    "\n",
    "# Loop through integers to append into the list\n",
    "for n in range(1, 54):\n",
    "    i=str(n).zfill(2)\n",
    "    districts.append(i)\n",
    "    n+=1\n",
    "    \n",
    "# Print the list\n",
    "print(districts)"
   ]
  },
  {
   "cell_type": "code",
   "execution_count": 52,
   "metadata": {},
   "outputs": [],
   "source": [
    "# Set params in URL\n",
    "sort_null_only=\"true\"\n",
    "office=\"house\"\n",
    "state=\"CA\"\n",
    "per_page=\"100\"\n",
    "sort_nulls_last=\"true\"\n",
    "sort_hide_null=\"true\"\n",
    "cycle=\"2016\"\n",
    "sort=\"-total_receipts\"\n",
    "hide_null=\"true\"\n",
    "page=1\n",
    "election_full=\"true\""
   ]
  },
  {
   "cell_type": "markdown",
   "metadata": {},
   "source": [
    "## Needs attention. "
   ]
  },
  {
   "cell_type": "code",
   "execution_count": 45,
   "metadata": {},
   "outputs": [],
   "source": [
    "import tqdm"
   ]
  },
  {
   "cell_type": "code",
   "execution_count": 53,
   "metadata": {},
   "outputs": [
    {
     "name": "stderr",
     "output_type": "stream",
     "text": [
      "100%|██████████| 53/53 [00:22<00:00,  2.39it/s]\n"
     ]
    }
   ],
   "source": [
    "# Create an empty dataframe\n",
    "combined_df=pd.DataFrame()\n",
    "\n",
    "# Loop through all districts ID in districts\n",
    "for district in tqdm.tqdm(districts):\n",
    "    # Create empty lists\n",
    "    committee_ids=[]\n",
    "    cash_on_hand_end_period=[]\n",
    "    candidate_pcc_id=[]\n",
    "    total_receipts=[]\n",
    "    coverage_end_date=[]\n",
    "    candidate_election_year=[]\n",
    "    candidate_name=[]\n",
    "    total_disbursements=[]\n",
    "    party_full=[]\n",
    "    candidate_id=[]\n",
    "    \n",
    "    # Define params\n",
    "    params= {\n",
    "        \"sort_null_only\":sort_null_only,\n",
    "        \"office\":office,\n",
    "        \"state\":state,\n",
    "        \"per_page\":per_page,\n",
    "        \"sort_nulls_last\":sort_nulls_last,\n",
    "        \"sort_hide_null\":sort_hide_null,\n",
    "        \"cycle\":cycle,\n",
    "        \"sort\":sort,\n",
    "        \"hide_null\":hide_null,\n",
    "        \"page\":page,\n",
    "        \"election_full\":election_full,\n",
    "        \"api_key\":api_key,\n",
    "        \"district\":district\n",
    "    }\n",
    "    \n",
    "    # Run request in JSON\n",
    "    response=requests.get(elections_url,params=params).json()\n",
    "    \n",
    "#     page += 1\n",
    "    \n",
    "    # Set variable to represent only results from the API\n",
    "    results=response[\"results\"]\n",
    "    \n",
    "    # Loop through every result in results\n",
    "    for result in results:\n",
    "\n",
    "        # Try to add information from results to the empty list\n",
    "        try:\n",
    "            committee_ids.append(result[\"committee_ids\"][0])\n",
    "            cash_on_hand_end_period.append(result[\"cash_on_hand_end_period\"])\n",
    "            candidate_pcc_id.append(result[\"candidate_pcc_id\"])\n",
    "            total_receipts.append(result[\"total_receipts\"])\n",
    "            coverage_end_date.append(result[\"coverage_end_date\"])\n",
    "            candidate_election_year.append(result[\"candidate_election_year\"])\n",
    "            candidate_name.append(result[\"candidate_name\"])\n",
    "            total_disbursements.append(result[\"total_disbursements\"])\n",
    "            party_full.append(result[\"party_full\"])\n",
    "            candidate_id.append(result[\"candidate_id\"])\n",
    "\n",
    "        # Otherwise return none\n",
    "        except:\n",
    "            None\n",
    "\n",
    "    # Create a dataframe to show all results\n",
    "#     print(district)\n",
    "#     print(candidate_name)\n",
    "    election_df = pd.DataFrame({\n",
    "        \"Committee_ID\": committee_ids,\n",
    "        \"Cash_on_Hand_End_Period\": cash_on_hand_end_period,\n",
    "        \"Candidate_PCC_ID\":candidate_pcc_id,\n",
    "        \"Total_Receipts\": total_receipts,\n",
    "        \"End_Date\": coverage_end_date,\n",
    "        \"Election_Year\": candidate_election_year,\n",
    "        \"Candidate_Name\": candidate_name,\n",
    "        \"Total_Disbursements\": total_disbursements,\n",
    "        \"Party\": party_full,\n",
    "        \"Candidate_ID\": candidate_id,\n",
    "        \"district\":district\n",
    "    })\n",
    "    # Concat each election_df for one district into a combined dataframe with all districts\n",
    "    combined_df=pd.concat([combined_df, election_df], ignore_index=True)"
   ]
  },
  {
   "cell_type": "code",
   "execution_count": 49,
   "metadata": {},
   "outputs": [
    {
     "data": {
      "text/html": [
       "<div>\n",
       "<style scoped>\n",
       "    .dataframe tbody tr th:only-of-type {\n",
       "        vertical-align: middle;\n",
       "    }\n",
       "\n",
       "    .dataframe tbody tr th {\n",
       "        vertical-align: top;\n",
       "    }\n",
       "\n",
       "    .dataframe thead th {\n",
       "        text-align: right;\n",
       "    }\n",
       "</style>\n",
       "<table border=\"1\" class=\"dataframe\">\n",
       "  <thead>\n",
       "    <tr style=\"text-align: right;\">\n",
       "      <th></th>\n",
       "      <th>Committee_ID</th>\n",
       "      <th>Cash_on_Hand_End_Period</th>\n",
       "      <th>Candidate_PCC_ID</th>\n",
       "      <th>Total_Receipts</th>\n",
       "      <th>End_Date</th>\n",
       "      <th>Election_Year</th>\n",
       "      <th>Candidate_Name</th>\n",
       "      <th>Total_Disbursements</th>\n",
       "      <th>Party</th>\n",
       "      <th>Candidate_ID</th>\n",
       "      <th>district</th>\n",
       "    </tr>\n",
       "  </thead>\n",
       "  <tbody>\n",
       "    <tr>\n",
       "      <th>0</th>\n",
       "      <td>C00509422</td>\n",
       "      <td>89475.60</td>\n",
       "      <td>C00509422</td>\n",
       "      <td>800277.02</td>\n",
       "      <td>2016-12-31T00:00:00</td>\n",
       "      <td>2016</td>\n",
       "      <td>LAMALFA, DOUG</td>\n",
       "      <td>808869.52</td>\n",
       "      <td>REPUBLICAN PARTY</td>\n",
       "      <td>H2CA02142</td>\n",
       "      <td>01</td>\n",
       "    </tr>\n",
       "    <tr>\n",
       "      <th>1</th>\n",
       "      <td>C00608265</td>\n",
       "      <td>0.00</td>\n",
       "      <td>C00608265</td>\n",
       "      <td>183682.00</td>\n",
       "      <td>2016-12-31T00:00:00</td>\n",
       "      <td>2016</td>\n",
       "      <td>MONTES, JOSEPH</td>\n",
       "      <td>183682.00</td>\n",
       "      <td>REPUBLICAN PARTY</td>\n",
       "      <td>H6CA01186</td>\n",
       "      <td>01</td>\n",
       "    </tr>\n",
       "    <tr>\n",
       "      <th>2</th>\n",
       "      <td>C00609958</td>\n",
       "      <td>3592.42</td>\n",
       "      <td>C00609958</td>\n",
       "      <td>138508.99</td>\n",
       "      <td>2016-12-31T00:00:00</td>\n",
       "      <td>2016</td>\n",
       "      <td>REED, JAMES E</td>\n",
       "      <td>134916.57</td>\n",
       "      <td>DEMOCRATIC PARTY</td>\n",
       "      <td>H6CA01194</td>\n",
       "      <td>01</td>\n",
       "    </tr>\n",
       "    <tr>\n",
       "      <th>3</th>\n",
       "      <td>C00605535</td>\n",
       "      <td>0.00</td>\n",
       "      <td>C00605535</td>\n",
       "      <td>27709.03</td>\n",
       "      <td>2016-05-10T00:00:00</td>\n",
       "      <td>2016</td>\n",
       "      <td>WRIGHT, DOUGLAS A.</td>\n",
       "      <td>27709.03</td>\n",
       "      <td>REPUBLICAN PARTY</td>\n",
       "      <td>H6CA01178</td>\n",
       "      <td>01</td>\n",
       "    </tr>\n",
       "    <tr>\n",
       "      <th>4</th>\n",
       "      <td>C00615104</td>\n",
       "      <td>0.00</td>\n",
       "      <td>C00615104</td>\n",
       "      <td>0.00</td>\n",
       "      <td>None</td>\n",
       "      <td>2016</td>\n",
       "      <td>OXLEY, GARY ALLEN</td>\n",
       "      <td>0.00</td>\n",
       "      <td>REPUBLICAN PARTY</td>\n",
       "      <td>H2CA01151</td>\n",
       "      <td>01</td>\n",
       "    </tr>\n",
       "    <tr>\n",
       "      <th>...</th>\n",
       "      <td>...</td>\n",
       "      <td>...</td>\n",
       "      <td>...</td>\n",
       "      <td>...</td>\n",
       "      <td>...</td>\n",
       "      <td>...</td>\n",
       "      <td>...</td>\n",
       "      <td>...</td>\n",
       "      <td>...</td>\n",
       "      <td>...</td>\n",
       "      <td>...</td>\n",
       "    </tr>\n",
       "    <tr>\n",
       "      <th>179</th>\n",
       "      <td>C00546861</td>\n",
       "      <td>0.00</td>\n",
       "      <td>C00610576</td>\n",
       "      <td>517.93</td>\n",
       "      <td>2015-04-05T00:00:00</td>\n",
       "      <td>2016</td>\n",
       "      <td>SIMON, FRED J JR MD</td>\n",
       "      <td>790.44</td>\n",
       "      <td>REPUBLICAN PARTY</td>\n",
       "      <td>H4CA52077</td>\n",
       "      <td>52</td>\n",
       "    </tr>\n",
       "    <tr>\n",
       "      <th>180</th>\n",
       "      <td>C00344671</td>\n",
       "      <td>255984.17</td>\n",
       "      <td>C00344671</td>\n",
       "      <td>485051.35</td>\n",
       "      <td>2016-12-31T00:00:00</td>\n",
       "      <td>2016</td>\n",
       "      <td>DAVIS, SUSAN</td>\n",
       "      <td>470870.68</td>\n",
       "      <td>DEMOCRATIC PARTY</td>\n",
       "      <td>H0CA49055</td>\n",
       "      <td>53</td>\n",
       "    </tr>\n",
       "    <tr>\n",
       "      <th>181</th>\n",
       "      <td>C00575860</td>\n",
       "      <td>1646.88</td>\n",
       "      <td>C00575860</td>\n",
       "      <td>122886.07</td>\n",
       "      <td>2016-12-31T00:00:00</td>\n",
       "      <td>2016</td>\n",
       "      <td>VELTMEYER, JAMES</td>\n",
       "      <td>121239.19</td>\n",
       "      <td>REPUBLICAN PARTY</td>\n",
       "      <td>H6CA53054</td>\n",
       "      <td>53</td>\n",
       "    </tr>\n",
       "    <tr>\n",
       "      <th>182</th>\n",
       "      <td>C00573915</td>\n",
       "      <td>0.00</td>\n",
       "      <td>C00573915</td>\n",
       "      <td>35278.00</td>\n",
       "      <td>2016-07-11T00:00:00</td>\n",
       "      <td>2016</td>\n",
       "      <td>ASH, JAMES</td>\n",
       "      <td>35278.00</td>\n",
       "      <td>REPUBLICAN PARTY</td>\n",
       "      <td>H6CA53047</td>\n",
       "      <td>53</td>\n",
       "    </tr>\n",
       "    <tr>\n",
       "      <th>183</th>\n",
       "      <td>C00581702</td>\n",
       "      <td>57.00</td>\n",
       "      <td>C00581702</td>\n",
       "      <td>1464.00</td>\n",
       "      <td>2016-03-31T00:00:00</td>\n",
       "      <td>2016</td>\n",
       "      <td>MENDOZA, MATTHEW JAMES</td>\n",
       "      <td>1346.00</td>\n",
       "      <td>REPUBLICAN PARTY</td>\n",
       "      <td>H6CA53062</td>\n",
       "      <td>53</td>\n",
       "    </tr>\n",
       "  </tbody>\n",
       "</table>\n",
       "<p>184 rows × 11 columns</p>\n",
       "</div>"
      ],
      "text/plain": [
       "    Committee_ID  Cash_on_Hand_End_Period Candidate_PCC_ID  Total_Receipts  \\\n",
       "0      C00509422                 89475.60        C00509422       800277.02   \n",
       "1      C00608265                     0.00        C00608265       183682.00   \n",
       "2      C00609958                  3592.42        C00609958       138508.99   \n",
       "3      C00605535                     0.00        C00605535        27709.03   \n",
       "4      C00615104                     0.00        C00615104            0.00   \n",
       "..           ...                      ...              ...             ...   \n",
       "179    C00546861                     0.00        C00610576          517.93   \n",
       "180    C00344671                255984.17        C00344671       485051.35   \n",
       "181    C00575860                  1646.88        C00575860       122886.07   \n",
       "182    C00573915                     0.00        C00573915        35278.00   \n",
       "183    C00581702                    57.00        C00581702         1464.00   \n",
       "\n",
       "                End_Date  Election_Year          Candidate_Name  \\\n",
       "0    2016-12-31T00:00:00           2016           LAMALFA, DOUG   \n",
       "1    2016-12-31T00:00:00           2016          MONTES, JOSEPH   \n",
       "2    2016-12-31T00:00:00           2016           REED, JAMES E   \n",
       "3    2016-05-10T00:00:00           2016      WRIGHT, DOUGLAS A.   \n",
       "4                   None           2016       OXLEY, GARY ALLEN   \n",
       "..                   ...            ...                     ...   \n",
       "179  2015-04-05T00:00:00           2016     SIMON, FRED J JR MD   \n",
       "180  2016-12-31T00:00:00           2016            DAVIS, SUSAN   \n",
       "181  2016-12-31T00:00:00           2016        VELTMEYER, JAMES   \n",
       "182  2016-07-11T00:00:00           2016              ASH, JAMES   \n",
       "183  2016-03-31T00:00:00           2016  MENDOZA, MATTHEW JAMES   \n",
       "\n",
       "     Total_Disbursements             Party Candidate_ID district  \n",
       "0              808869.52  REPUBLICAN PARTY    H2CA02142       01  \n",
       "1              183682.00  REPUBLICAN PARTY    H6CA01186       01  \n",
       "2              134916.57  DEMOCRATIC PARTY    H6CA01194       01  \n",
       "3               27709.03  REPUBLICAN PARTY    H6CA01178       01  \n",
       "4                   0.00  REPUBLICAN PARTY    H2CA01151       01  \n",
       "..                   ...               ...          ...      ...  \n",
       "179               790.44  REPUBLICAN PARTY    H4CA52077       52  \n",
       "180            470870.68  DEMOCRATIC PARTY    H0CA49055       53  \n",
       "181            121239.19  REPUBLICAN PARTY    H6CA53054       53  \n",
       "182             35278.00  REPUBLICAN PARTY    H6CA53047       53  \n",
       "183              1346.00  REPUBLICAN PARTY    H6CA53062       53  \n",
       "\n",
       "[184 rows x 11 columns]"
      ]
     },
     "execution_count": 49,
     "metadata": {},
     "output_type": "execute_result"
    }
   ],
   "source": [
    "combined_df"
   ]
  },
  {
   "cell_type": "code",
   "execution_count": 43,
   "metadata": {},
   "outputs": [],
   "source": [
    "district_no= combined_df['district'].to_list()"
   ]
  },
  {
   "cell_type": "markdown",
   "metadata": {},
   "source": [
    "### Save query to json"
   ]
  },
  {
   "cell_type": "code",
   "execution_count": 24,
   "metadata": {},
   "outputs": [],
   "source": [
    "# Save query to json\n",
    "with open('../datasets/election_api_query.json', 'w') as fp:\n",
    "      json.dump(election_df.to_dict(), fp)"
   ]
  },
  {
   "cell_type": "markdown",
   "metadata": {},
   "source": [
    "## Needs to be one or two of each."
   ]
  },
  {
   "cell_type": "code",
   "execution_count": 23,
   "metadata": {},
   "outputs": [
    {
     "data": {
      "text/plain": [
       "Series([], Name: Candidate_Name, dtype: int64)"
      ]
     },
     "execution_count": 23,
     "metadata": {},
     "output_type": "execute_result"
    }
   ],
   "source": [
    "# Print the dataframe\n",
    "combined_df['Candidate_Name'].value_counts()"
   ]
  },
  {
   "cell_type": "markdown",
   "metadata": {},
   "source": [
    "## Upload to PostgreSQL"
   ]
  },
  {
   "cell_type": "code",
   "execution_count": 29,
   "metadata": {},
   "outputs": [],
   "source": [
    "# TEMPLATE: ElectionTable template to upload to specific table in db\n",
    "# Create ElectionTable Classes\n",
    "# Creates table with column names\n",
    "# ----------------------------------\n",
    "class ElectionTable(Base):\n",
    "    _id = Column(Integer, primary_key=True)\n",
    "    __tablename__ = 'election_table'\n",
    "    Committee_ID = Column(String(30))\n",
    "    Cash_on_Hand_End_Period = Column(String(30))\n",
    "    Candidate_PCC_ID = Column(String(30))\n",
    "    Total_Receipts = Column(String(30))\n",
    "    End_Date = Column(String(30))\n",
    "    Election_Year = Column(Integer)\n",
    "    Candidate_Name = Column(String(30))\n",
    "    Total_Disbursements = Column(String(30))\n",
    "    Party = Column(String(30))\n",
    "    Candidate_ID = Column(String(30))\n",
    "    district = Column(Integer)"
   ]
  },
  {
   "cell_type": "code",
   "execution_count": 30,
   "metadata": {},
   "outputs": [],
   "source": [
    "# Create Database Connection\n",
    "# ----------------------------------\n",
    "# create engine to postgres connection\n",
    "engine = create_engine(postgres_str)\n",
    "conn = engine.connect()\n",
    "\n",
    "# Create a \"Metadata\" Layer That Abstracts the SQL Database\n",
    "# ----------------------------------\n",
    "Base.metadata.create_all(engine)\n",
    "\n",
    "# Create a Session Object to Connect to DB\n",
    "# ----------------------------------\n",
    "session = Session(bind=engine)"
   ]
  },
  {
   "cell_type": "code",
   "execution_count": 31,
   "metadata": {},
   "outputs": [
    {
     "data": {
      "text/plain": [
       "RangeIndex(start=0, stop=4879, step=1)"
      ]
     },
     "execution_count": 31,
     "metadata": {},
     "output_type": "execute_result"
    }
   ],
   "source": [
    "combined_df.index"
   ]
  },
  {
   "cell_type": "code",
   "execution_count": 32,
   "metadata": {},
   "outputs": [],
   "source": [
    "# Create table name and export dataframe to Postgresql\n",
    "table_name = 'election_table'\n",
    "combined_df.to_sql(table_name, conn, if_exists='append', index=False)"
   ]
  },
  {
   "cell_type": "code",
   "execution_count": null,
   "metadata": {},
   "outputs": [],
   "source": []
  },
  {
   "cell_type": "markdown",
   "metadata": {},
   "source": [
    "---------"
   ]
  },
  {
   "cell_type": "markdown",
   "metadata": {},
   "source": [
    "### Statewide DB \n",
    "Clean and import data to postgresql"
   ]
  },
  {
   "cell_type": "markdown",
   "metadata": {},
   "source": [
    "Import csv data. \n",
    "Create table for csv in postgresql.\n",
    "Import data to table."
   ]
  },
  {
   "cell_type": "code",
   "execution_count": 33,
   "metadata": {},
   "outputs": [],
   "source": [
    "# Output File (CSV)\n",
    "output_data_file = \"../datasets/statewide_db.csv\""
   ]
  },
  {
   "cell_type": "code",
   "execution_count": 34,
   "metadata": {},
   "outputs": [
    {
     "data": {
      "text/html": [
       "<div>\n",
       "<style scoped>\n",
       "    .dataframe tbody tr th:only-of-type {\n",
       "        vertical-align: middle;\n",
       "    }\n",
       "\n",
       "    .dataframe tbody tr th {\n",
       "        vertical-align: top;\n",
       "    }\n",
       "\n",
       "    .dataframe thead th {\n",
       "        text-align: right;\n",
       "    }\n",
       "</style>\n",
       "<table border=\"1\" class=\"dataframe\">\n",
       "  <thead>\n",
       "    <tr style=\"text-align: right;\">\n",
       "      <th></th>\n",
       "      <th>COUNTY</th>\n",
       "      <th>FIPS</th>\n",
       "      <th>SVPREC_KEY</th>\n",
       "      <th>SVPREC</th>\n",
       "      <th>ADDIST</th>\n",
       "      <th>CDDIST</th>\n",
       "      <th>SDDIST</th>\n",
       "      <th>BEDIST</th>\n",
       "      <th>TOTREG</th>\n",
       "      <th>DEMREG</th>\n",
       "      <th>...</th>\n",
       "      <th>USSREP03</th>\n",
       "      <th>USSREP04</th>\n",
       "      <th>USSREP05</th>\n",
       "      <th>USSREP06</th>\n",
       "      <th>USSREP07</th>\n",
       "      <th>USSREP08</th>\n",
       "      <th>USSREP09</th>\n",
       "      <th>USSREP10</th>\n",
       "      <th>USSREP11</th>\n",
       "      <th>USSREP12</th>\n",
       "    </tr>\n",
       "  </thead>\n",
       "  <tbody>\n",
       "    <tr>\n",
       "      <th>0</th>\n",
       "      <td>49</td>\n",
       "      <td>6097</td>\n",
       "      <td>060971001</td>\n",
       "      <td>1001</td>\n",
       "      <td>2</td>\n",
       "      <td>5</td>\n",
       "      <td>2</td>\n",
       "      <td>2</td>\n",
       "      <td>230</td>\n",
       "      <td>0</td>\n",
       "      <td>...</td>\n",
       "      <td>0</td>\n",
       "      <td>0</td>\n",
       "      <td>0</td>\n",
       "      <td>0</td>\n",
       "      <td>0</td>\n",
       "      <td>0</td>\n",
       "      <td>0</td>\n",
       "      <td>0</td>\n",
       "      <td>0</td>\n",
       "      <td>0</td>\n",
       "    </tr>\n",
       "    <tr>\n",
       "      <th>1</th>\n",
       "      <td>49</td>\n",
       "      <td>6097</td>\n",
       "      <td>060971001A</td>\n",
       "      <td>1001A</td>\n",
       "      <td>2</td>\n",
       "      <td>5</td>\n",
       "      <td>2</td>\n",
       "      <td>2</td>\n",
       "      <td>0</td>\n",
       "      <td>0</td>\n",
       "      <td>...</td>\n",
       "      <td>0</td>\n",
       "      <td>3</td>\n",
       "      <td>1</td>\n",
       "      <td>0</td>\n",
       "      <td>10</td>\n",
       "      <td>3</td>\n",
       "      <td>0</td>\n",
       "      <td>0</td>\n",
       "      <td>10</td>\n",
       "      <td>2</td>\n",
       "    </tr>\n",
       "    <tr>\n",
       "      <th>2</th>\n",
       "      <td>49</td>\n",
       "      <td>6097</td>\n",
       "      <td>060971002</td>\n",
       "      <td>1002</td>\n",
       "      <td>2</td>\n",
       "      <td>5</td>\n",
       "      <td>2</td>\n",
       "      <td>2</td>\n",
       "      <td>24</td>\n",
       "      <td>0</td>\n",
       "      <td>...</td>\n",
       "      <td>0</td>\n",
       "      <td>0</td>\n",
       "      <td>0</td>\n",
       "      <td>0</td>\n",
       "      <td>0</td>\n",
       "      <td>0</td>\n",
       "      <td>0</td>\n",
       "      <td>0</td>\n",
       "      <td>0</td>\n",
       "      <td>0</td>\n",
       "    </tr>\n",
       "    <tr>\n",
       "      <th>3</th>\n",
       "      <td>49</td>\n",
       "      <td>6097</td>\n",
       "      <td>060971002A</td>\n",
       "      <td>1002A</td>\n",
       "      <td>2</td>\n",
       "      <td>5</td>\n",
       "      <td>2</td>\n",
       "      <td>2</td>\n",
       "      <td>0</td>\n",
       "      <td>0</td>\n",
       "      <td>...</td>\n",
       "      <td>0</td>\n",
       "      <td>0</td>\n",
       "      <td>0</td>\n",
       "      <td>0</td>\n",
       "      <td>0</td>\n",
       "      <td>0</td>\n",
       "      <td>0</td>\n",
       "      <td>0</td>\n",
       "      <td>1</td>\n",
       "      <td>0</td>\n",
       "    </tr>\n",
       "    <tr>\n",
       "      <th>4</th>\n",
       "      <td>49</td>\n",
       "      <td>6097</td>\n",
       "      <td>060971006</td>\n",
       "      <td>1006</td>\n",
       "      <td>2</td>\n",
       "      <td>5</td>\n",
       "      <td>2</td>\n",
       "      <td>2</td>\n",
       "      <td>2</td>\n",
       "      <td>0</td>\n",
       "      <td>...</td>\n",
       "      <td>0</td>\n",
       "      <td>0</td>\n",
       "      <td>0</td>\n",
       "      <td>0</td>\n",
       "      <td>0</td>\n",
       "      <td>0</td>\n",
       "      <td>0</td>\n",
       "      <td>0</td>\n",
       "      <td>0</td>\n",
       "      <td>0</td>\n",
       "    </tr>\n",
       "  </tbody>\n",
       "</table>\n",
       "<p>5 rows × 148 columns</p>\n",
       "</div>"
      ],
      "text/plain": [
       "   COUNTY  FIPS  SVPREC_KEY SVPREC  ADDIST  CDDIST  SDDIST  BEDIST  TOTREG  \\\n",
       "0      49  6097   060971001   1001       2       5       2       2     230   \n",
       "1      49  6097  060971001A  1001A       2       5       2       2       0   \n",
       "2      49  6097   060971002   1002       2       5       2       2      24   \n",
       "3      49  6097  060971002A  1002A       2       5       2       2       0   \n",
       "4      49  6097   060971006   1006       2       5       2       2       2   \n",
       "\n",
       "   DEMREG  ...  USSREP03  USSREP04  USSREP05  USSREP06  USSREP07  USSREP08  \\\n",
       "0       0  ...         0         0         0         0         0         0   \n",
       "1       0  ...         0         3         1         0        10         3   \n",
       "2       0  ...         0         0         0         0         0         0   \n",
       "3       0  ...         0         0         0         0         0         0   \n",
       "4       0  ...         0         0         0         0         0         0   \n",
       "\n",
       "   USSREP09  USSREP10  USSREP11  USSREP12  \n",
       "0         0         0         0         0  \n",
       "1         0         0        10         2  \n",
       "2         0         0         0         0  \n",
       "3         0         0         1         0  \n",
       "4         0         0         0         0  \n",
       "\n",
       "[5 rows x 148 columns]"
      ]
     },
     "execution_count": 34,
     "metadata": {},
     "output_type": "execute_result"
    }
   ],
   "source": [
    "# Create DataFrame from csv\n",
    "statewide_df = pd.read_csv('../datasets/statewide_db.csv', encoding='utf-8')\n",
    "statewide_df.head()"
   ]
  },
  {
   "cell_type": "code",
   "execution_count": 35,
   "metadata": {},
   "outputs": [
    {
     "data": {
      "text/plain": [
       "44297"
      ]
     },
     "execution_count": 35,
     "metadata": {},
     "output_type": "execute_result"
    }
   ],
   "source": [
    "len(statewide_df)"
   ]
  },
  {
   "cell_type": "code",
   "execution_count": 36,
   "metadata": {},
   "outputs": [
    {
     "data": {
      "text/html": [
       "<div>\n",
       "<style scoped>\n",
       "    .dataframe tbody tr th:only-of-type {\n",
       "        vertical-align: middle;\n",
       "    }\n",
       "\n",
       "    .dataframe tbody tr th {\n",
       "        vertical-align: top;\n",
       "    }\n",
       "\n",
       "    .dataframe thead th {\n",
       "        text-align: right;\n",
       "    }\n",
       "</style>\n",
       "<table border=\"1\" class=\"dataframe\">\n",
       "  <thead>\n",
       "    <tr style=\"text-align: right;\">\n",
       "      <th></th>\n",
       "      <th>COUNTY</th>\n",
       "      <th>FIPS</th>\n",
       "      <th>CDDIST</th>\n",
       "      <th>CNGDEM01</th>\n",
       "      <th>CNGDEM02</th>\n",
       "      <th>CNGREP01</th>\n",
       "      <th>CNGREP02</th>\n",
       "    </tr>\n",
       "  </thead>\n",
       "  <tbody>\n",
       "    <tr>\n",
       "      <th>0</th>\n",
       "      <td>49</td>\n",
       "      <td>6097</td>\n",
       "      <td>5</td>\n",
       "      <td>0</td>\n",
       "      <td>0</td>\n",
       "      <td>0</td>\n",
       "      <td>0</td>\n",
       "    </tr>\n",
       "    <tr>\n",
       "      <th>1</th>\n",
       "      <td>49</td>\n",
       "      <td>6097</td>\n",
       "      <td>5</td>\n",
       "      <td>122</td>\n",
       "      <td>13</td>\n",
       "      <td>18</td>\n",
       "      <td>0</td>\n",
       "    </tr>\n",
       "    <tr>\n",
       "      <th>2</th>\n",
       "      <td>49</td>\n",
       "      <td>6097</td>\n",
       "      <td>5</td>\n",
       "      <td>0</td>\n",
       "      <td>0</td>\n",
       "      <td>0</td>\n",
       "      <td>0</td>\n",
       "    </tr>\n",
       "    <tr>\n",
       "      <th>3</th>\n",
       "      <td>49</td>\n",
       "      <td>6097</td>\n",
       "      <td>5</td>\n",
       "      <td>6</td>\n",
       "      <td>6</td>\n",
       "      <td>2</td>\n",
       "      <td>0</td>\n",
       "    </tr>\n",
       "    <tr>\n",
       "      <th>4</th>\n",
       "      <td>49</td>\n",
       "      <td>6097</td>\n",
       "      <td>5</td>\n",
       "      <td>0</td>\n",
       "      <td>0</td>\n",
       "      <td>0</td>\n",
       "      <td>0</td>\n",
       "    </tr>\n",
       "    <tr>\n",
       "      <th>...</th>\n",
       "      <td>...</td>\n",
       "      <td>...</td>\n",
       "      <td>...</td>\n",
       "      <td>...</td>\n",
       "      <td>...</td>\n",
       "      <td>...</td>\n",
       "      <td>...</td>\n",
       "    </tr>\n",
       "    <tr>\n",
       "      <th>44292</th>\n",
       "      <td>35</td>\n",
       "      <td>6069</td>\n",
       "      <td>0</td>\n",
       "      <td>0</td>\n",
       "      <td>0</td>\n",
       "      <td>0</td>\n",
       "      <td>0</td>\n",
       "    </tr>\n",
       "    <tr>\n",
       "      <th>44293</th>\n",
       "      <td>35</td>\n",
       "      <td>6069</td>\n",
       "      <td>0</td>\n",
       "      <td>0</td>\n",
       "      <td>0</td>\n",
       "      <td>0</td>\n",
       "      <td>0</td>\n",
       "    </tr>\n",
       "    <tr>\n",
       "      <th>44294</th>\n",
       "      <td>35</td>\n",
       "      <td>6069</td>\n",
       "      <td>0</td>\n",
       "      <td>0</td>\n",
       "      <td>0</td>\n",
       "      <td>0</td>\n",
       "      <td>0</td>\n",
       "    </tr>\n",
       "    <tr>\n",
       "      <th>44295</th>\n",
       "      <td>35</td>\n",
       "      <td>6069</td>\n",
       "      <td>0</td>\n",
       "      <td>0</td>\n",
       "      <td>0</td>\n",
       "      <td>0</td>\n",
       "      <td>0</td>\n",
       "    </tr>\n",
       "    <tr>\n",
       "      <th>44296</th>\n",
       "      <td>35</td>\n",
       "      <td>6069</td>\n",
       "      <td>0</td>\n",
       "      <td>0</td>\n",
       "      <td>0</td>\n",
       "      <td>0</td>\n",
       "      <td>0</td>\n",
       "    </tr>\n",
       "  </tbody>\n",
       "</table>\n",
       "<p>44297 rows × 7 columns</p>\n",
       "</div>"
      ],
      "text/plain": [
       "       COUNTY  FIPS  CDDIST  CNGDEM01  CNGDEM02  CNGREP01  CNGREP02\n",
       "0          49  6097       5         0         0         0         0\n",
       "1          49  6097       5       122        13        18         0\n",
       "2          49  6097       5         0         0         0         0\n",
       "3          49  6097       5         6         6         2         0\n",
       "4          49  6097       5         0         0         0         0\n",
       "...       ...   ...     ...       ...       ...       ...       ...\n",
       "44292      35  6069       0         0         0         0         0\n",
       "44293      35  6069       0         0         0         0         0\n",
       "44294      35  6069       0         0         0         0         0\n",
       "44295      35  6069       0         0         0         0         0\n",
       "44296      35  6069       0         0         0         0         0\n",
       "\n",
       "[44297 rows x 7 columns]"
      ]
     },
     "execution_count": 36,
     "metadata": {},
     "output_type": "execute_result"
    }
   ],
   "source": [
    "# Select county and cddist columns\n",
    "test_df = statewide_df[['COUNTY', 'FIPS', 'CDDIST', 'CNGDEM01', 'CNGDEM02', 'CNGREP01', 'CNGREP02']]\n",
    "test_df"
   ]
  },
  {
   "cell_type": "code",
   "execution_count": 37,
   "metadata": {},
   "outputs": [],
   "source": [
    "# Create list of values for COUNTY\n",
    "county_list = test_df['COUNTY'].tolist()\n",
    "fips_list = test_df['FIPS'].tolist()\n",
    "CDDIST_list = test_df['CDDIST'].tolist()\n",
    "CNGDEM01_list = test_df['CNGDEM01'].tolist()\n",
    "CNGDEM02_list = test_df['CNGDEM02'].tolist()\n",
    "CNGREP01_list = test_df['CNGREP01'].tolist()\n",
    "CNGREP02_list = test_df['CNGREP02'].tolist()\n"
   ]
  },
  {
   "cell_type": "code",
   "execution_count": 38,
   "metadata": {},
   "outputs": [],
   "source": [
    "# Create list of values for CDDIST\n",
    "# CDDIST_list = test_df['CDDIST'].tolist()"
   ]
  },
  {
   "cell_type": "markdown",
   "metadata": {},
   "source": [
    "## Upload to PostgreSQL"
   ]
  },
  {
   "cell_type": "code",
   "execution_count": 39,
   "metadata": {
    "scrolled": true
   },
   "outputs": [],
   "source": [
    "# TEMPLATE: CongressTable template to upload to specific table in db\n",
    "# Create CongressTable Classes\n",
    "# Creates table with column names\n",
    "# ----------------------------------\n",
    "class CongressTable(Base):\n",
    "    __tablename__ = 'statewide_db'\n",
    "    _id = Column(Integer, primary_key=True)\n",
    "    county_num = Column(Integer)\n",
    "    fips = Column(Integer,ForeignKey('district_name_num.fips') )\n",
    "    cddist = Column(Integer) \n",
    "    cngdem01 = Column(Integer) \n",
    "    cngdem02 = Column(Integer) \n",
    "    cngrep01 = Column(Integer) \n",
    "    cngrep02 = Column(Integer) \n",
    "    "
   ]
  },
  {
   "cell_type": "code",
   "execution_count": 40,
   "metadata": {
    "scrolled": true
   },
   "outputs": [],
   "source": [
    "# Create Database Connection\n",
    "# ----------------------------------\n",
    "# create engine to postgres connection\n",
    "engine = create_engine(postgres_str)\n",
    "conn = engine.connect()\n",
    "\n",
    "# Create a \"Metadata\" Layer That Abstracts the SQL Database\n",
    "# ----------------------------------\n",
    "Base.metadata.create_all(engine)\n",
    "\n",
    "# Create a Session Object to Connect to DB\n",
    "# ----------------------------------\n",
    "session = Session(bind=engine)"
   ]
  },
  {
   "cell_type": "code",
   "execution_count": 41,
   "metadata": {},
   "outputs": [
    {
     "name": "stdout",
     "output_type": "stream",
     "text": [
      "completed upload to db\n"
     ]
    }
   ],
   "source": [
    "# Send date to postgresql\n",
    "\n",
    "for county, fip, cddists, cngdem1, cngdem2, cngrep1, cngrep2 in zip(county_list, fips_list, CDDIST_list, CNGDEM01_list, CNGDEM02_list, CNGREP01_list, CNGREP02_list):\n",
    "    try:\n",
    "#     print(f'{key},{value}')\n",
    "        row = CongressTable(county_num=county, fips=fip, cddist=cddists, cngdem01=cngdem1, cngdem02=cngdem2, cngrep01=cngrep1, cngrep02=cngrep2)\n",
    "        session.add(row)\n",
    "        session.commit()\n",
    "        \n",
    "\n",
    "    except Exception as e:\n",
    "        print(f'error during upload. check db for partial information: {e}')\n",
    "        print('===============================')\n",
    "        \n",
    "print('completed upload to db')"
   ]
  },
  {
   "cell_type": "code",
   "execution_count": null,
   "metadata": {},
   "outputs": [],
   "source": []
  },
  {
   "cell_type": "markdown",
   "metadata": {},
   "source": [
    "----------------"
   ]
  }
 ],
 "metadata": {
  "kernelspec": {
   "display_name": "Python 3",
   "language": "python",
   "name": "python3"
  },
  "language_info": {
   "codemirror_mode": {
    "name": "ipython",
    "version": 3
   },
   "file_extension": ".py",
   "mimetype": "text/x-python",
   "name": "python",
   "nbconvert_exporter": "python",
   "pygments_lexer": "ipython3",
   "version": "3.7.6"
  }
 },
 "nbformat": 4,
 "nbformat_minor": 4
}
