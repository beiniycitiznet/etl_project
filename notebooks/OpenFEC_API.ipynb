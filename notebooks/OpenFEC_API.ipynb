{
 "cells": [
  {
   "cell_type": "code",
   "execution_count": 1,
   "metadata": {},
   "outputs": [],
   "source": [
    "# Dependencies\n",
    "import requests\n",
    "import json\n",
    "import pandas as pd\n",
    "from pprint import pprint\n",
    "from config import api_key, username, password, ipaddress, port, dbname\n",
    "from sqlalchemy import create_engine\n"
   ]
  },
  {
   "cell_type": "code",
   "execution_count": 2,
   "metadata": {},
   "outputs": [],
   "source": [
    "# Specify the URL\n",
    "elections_url = \"https://api.open.fec.gov/v1/elections/?\""
   ]
  },
  {
   "cell_type": "code",
   "execution_count": 3,
   "metadata": {},
   "outputs": [
    {
     "name": "stdout",
     "output_type": "stream",
     "text": [
      "['01', '02', '03', '04', '05', '06', '07', '08', '09', '10', '11', '12', '13', '14', '15', '16', '17', '18', '19', '20', '21', '22', '23', '24', '25', '26', '27', '28', '29', '30', '31', '32', '33', '34', '35', '36', '37', '38', '39', '40', '41', '42', '43', '44', '45', '46', '47', '48', '49', '50', '51', '52', '53']\n"
     ]
    }
   ],
   "source": [
    "# Create districts list\n",
    "districts=[]\n",
    "\n",
    "# Loop through integers to append into the list\n",
    "for n in range(1, 54):\n",
    "    i=str(n).zfill(2)\n",
    "    districts.append(i)\n",
    "    n+=1\n",
    "    \n",
    "# Print the list\n",
    "print(districts)"
   ]
  },
  {
   "cell_type": "code",
   "execution_count": 4,
   "metadata": {},
   "outputs": [],
   "source": [
    "# Set params in URL\n",
    "sort_null_only=\"true\"\n",
    "office=\"house\"\n",
    "state=\"CA\"\n",
    "per_page=\"34\"\n",
    "sort_nulls_last=\"true\"\n",
    "sort_hide_null=\"true\"\n",
    "cycle=\"2016\"\n",
    "sort=\"-total_receipts\"\n",
    "hide_null=\"true\"\n",
    "page=1\n",
    "election_full=\"true\""
   ]
  },
  {
   "cell_type": "code",
   "execution_count": 5,
   "metadata": {},
   "outputs": [],
   "source": [
    "# Create an empty dataframe\n",
    "combined_df=pd.DataFrame()\n",
    "\n",
    "# Create empty lists\n",
    "committee_ids=[]\n",
    "cash_on_hand_end_period=[]\n",
    "candidate_pcc_id=[]\n",
    "total_receipts=[]\n",
    "coverage_end_date=[]\n",
    "candidate_election_year=[]\n",
    "candidate_name=[]\n",
    "total_disbursements=[]\n",
    "party_full=[]\n",
    "candidate_id=[]"
   ]
  },
  {
   "cell_type": "code",
   "execution_count": 6,
   "metadata": {},
   "outputs": [],
   "source": [
    "# Loop through all districts ID in districts\n",
    "for district in districts:\n",
    "    \n",
    "    # Define params\n",
    "    params= {\n",
    "        \"sort_null_only\":sort_null_only,\n",
    "        \"office\":office,\n",
    "        \"state\":state,\n",
    "        \"per_page\":per_page,\n",
    "        \"sort_nulls_last\":sort_nulls_last,\n",
    "        \"sort_hide_null\":sort_hide_null,\n",
    "        \"cycle\":cycle,\n",
    "        \"sort\":sort,\n",
    "        \"hide_null\":hide_null,\n",
    "        \"page\":page,\n",
    "        \"election_full\":election_full,\n",
    "        \"api_key\":api_key,\n",
    "        \"district\":district\n",
    "    }\n",
    "\n",
    "    # Run request in JSON\n",
    "    response=requests.get(elections_url,params=params).json()\n",
    "    \n",
    "    # Set variable to represent only results from the API\n",
    "    results=response[\"results\"]\n",
    "    \n",
    "    # Loop through every result in results\n",
    "    for result in results:\n",
    "\n",
    "        # Try to add information from results to the empty list\n",
    "        try:\n",
    "            committee_ids.append(result[\"committee_ids\"][0])\n",
    "            cash_on_hand_end_period.append(result[\"cash_on_hand_end_period\"])\n",
    "            candidate_pcc_id.append(result[\"candidate_pcc_id\"])\n",
    "            total_receipts.append(result[\"total_receipts\"])\n",
    "            coverage_end_date.append(result[\"coverage_end_date\"])\n",
    "            candidate_election_year.append(result[\"candidate_election_year\"])\n",
    "            candidate_name.append(result[\"candidate_name\"])\n",
    "            total_disbursements.append(result[\"total_disbursements\"])\n",
    "            party_full.append(result[\"party_full\"])\n",
    "            candidate_id.append(result[\"candidate_id\"])\n",
    "\n",
    "        # Otherwise return none\n",
    "        except:\n",
    "            None\n",
    "\n",
    "    # Create a dataframe to show all results\n",
    "    election_df = pd.DataFrame({\n",
    "        \"Committee ID\": committee_ids,\n",
    "        \"Cash on Hand End Period\": cash_on_hand_end_period,\n",
    "        \"Candidate PCC ID\":candidate_pcc_id,\n",
    "        \"Total Receipts\": total_receipts,\n",
    "        \"End Date\": coverage_end_date,\n",
    "        \"Election Year\": candidate_election_year,\n",
    "        \"Candidate Name\": candidate_name,\n",
    "        \"Total Disbursements\": total_disbursements,\n",
    "        \"Party\": party_full,\n",
    "        \"Candidate ID\": candidate_id,\n",
    "        \"district\":district\n",
    "    })\n",
    "    \n",
    "    # Concat each election_df for one district into a combined dataframe with all districts\n",
    "    combined_df=pd.concat([combined_df, election_df], ignore_index=True)"
   ]
  },
  {
   "cell_type": "code",
   "execution_count": null,
   "metadata": {},
   "outputs": [],
   "source": [
    "# Create engine and connect it to Postgresql\n",
    "engine=create_engine(f\"postgresql://{username}:{password}@{ipaddress}:{port}/{dbname}\")\n",
    "conn=engine.connect()"
   ]
  },
  {
   "cell_type": "code",
   "execution_count": null,
   "metadata": {},
   "outputs": [],
   "source": [
    "# Create table name and export dataframe to Postgresql\n",
    "table_name = 'election_table'\n",
    "combined_df.to_sql(table_name, conn)"
   ]
  },
  {
   "cell_type": "code",
   "execution_count": null,
   "metadata": {},
   "outputs": [],
   "source": []
  }
 ],
 "metadata": {
  "kernelspec": {
   "display_name": "Python 3.7.7 64-bit ('dsfs': conda)",
   "language": "python",
   "name": "python37764bitdsfsconda1775957e7c934391a7cff3c9f4103f95"
  },
  "language_info": {
   "codemirror_mode": {
    "name": "ipython",
    "version": 3
   },
   "file_extension": ".py",
   "mimetype": "text/x-python",
   "name": "python",
   "nbconvert_exporter": "python",
   "pygments_lexer": "ipython3",
   "version": "3.7.7"
  }
 },
 "nbformat": 4,
 "nbformat_minor": 4
}
